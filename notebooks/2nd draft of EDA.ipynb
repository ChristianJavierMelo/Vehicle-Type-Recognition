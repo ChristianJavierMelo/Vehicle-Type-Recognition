{
 "cells": [
  {
   "cell_type": "code",
   "execution_count": null,
   "metadata": {},
   "outputs": [],
   "source": [
    "import os\n",
    "import numpy as np\n",
    "import pandas as pd\n",
    "import matplotlib.pyplot as plt\n",
    "from collections import OrderedDict\n",
    "import cv2\n",
    "from PIL import Image\n",
    "import keras\n",
    "import tensorflow as tf\n",
    "from keras.utils import np_utils # For one-hot-encoding\n",
    "from keras.models import Sequential # For creating sequenttial model\n",
    "from keras.layers import Conv2D,MaxPooling2D,Dense,Flatten,Dropout\n",
    "from keras.models import load_model # For saving and loading models\n",
    "\n",
    "import random"
   ]
  },
  {
   "cell_type": "code",
   "execution_count": null,
   "metadata": {},
   "outputs": [],
   "source": [
    "tf.__version__"
   ]
  },
  {
   "cell_type": "code",
   "execution_count": null,
   "metadata": {},
   "outputs": [],
   "source": [
    "# avoid tensorflow to get all gpu memory\n",
    "physical_devices = tf.config.list_physical_devices('GPU')\n",
    "for gpu in physical_devices:\n",
    "    tf.config.experimental.set_memory_growth(gpu, True)"
   ]
  },
  {
   "cell_type": "code",
   "execution_count": null,
   "metadata": {},
   "outputs": [],
   "source": [
    "categories = os.listdir('../data/raw/vehicle/train/train')\n",
    "root = '../data/raw/vehicle/train/train/'\n",
    "\n",
    "# create dict of list of images per category\n",
    "train_dict = {}\n",
    "for vehicle in categories:\n",
    "    train_dict[vehicle] = [i for i in os.listdir(root + vehicle)]"
   ]
  },
  {
   "cell_type": "code",
   "execution_count": null,
   "metadata": {},
   "outputs": [],
   "source": [
    "# verify\n",
    "print(train_dict.keys())\n",
    "print(f'There are total {len(train_dict.keys())} categories of vehicles')"
   ]
  },
  {
   "cell_type": "code",
   "execution_count": null,
   "metadata": {},
   "outputs": [],
   "source": [
    "# convert dict to pandas df\n",
    "train_df = pd.DataFrame.from_dict(train_dict, orient='index').sort_index()\n",
    "train_df = train_df.transpose()"
   ]
  },
  {
   "cell_type": "code",
   "execution_count": null,
   "metadata": {},
   "outputs": [],
   "source": [
    "# train set\n",
    "train_df.head()"
   ]
  },
  {
   "cell_type": "code",
   "execution_count": null,
   "metadata": {},
   "outputs": [],
   "source": [
    "train_df.info()"
   ]
  },
  {
   "cell_type": "markdown",
   "metadata": {},
   "source": [
    "Dataset is imbalanced, let's visualize"
   ]
  },
  {
   "cell_type": "code",
   "execution_count": null,
   "metadata": {},
   "outputs": [],
   "source": [
    "cols = []\n",
    "col_imgs = []\n",
    "for col in train_df.columns:\n",
    "    cols.append(col)\n",
    "    col_imgs.append(train_df[col].count())\n",
    "\n",
    "plt.figure(figsize=(10,6))\n",
    "plt.barh(cols, col_imgs)\n",
    "plt.show()"
   ]
  },
  {
   "cell_type": "code",
   "execution_count": null,
   "metadata": {
    "scrolled": true
   },
   "outputs": [],
   "source": [
    "print(\"=\"*70)\n",
    "print(\"Displaying 4 random image per vehicle category\")\n",
    "print(\"=\"*70)\n",
    "\n",
    "# for every category in `cols`\n",
    "for j in range(15):\n",
    "    plt.figure(j)\n",
    "    plt.figure(figsize=(20,20))\n",
    "    \n",
    "    # 4 images per every vehicle\n",
    "    for i in range(4):\n",
    "        id = \"14{}\".format(i+1)\n",
    "        plt.subplot(int(id))\n",
    "        random_file = random.choice(os.listdir(root + cols[j] + \"/\"))\n",
    "        img = cv2.imread(root + cols[j] + \"/\" + random_file)\n",
    "        plt.title(cols[j])\n",
    "        plt.imshow(img)\n",
    "plt.show()"
   ]
  },
  {
   "cell_type": "markdown",
   "metadata": {},
   "source": [
    "### Prepare Data For Training"
   ]
  },
  {
   "cell_type": "code",
   "execution_count": null,
   "metadata": {},
   "outputs": [],
   "source": [
    "data = []\n",
    "labels = []"
   ]
  },
  {
   "cell_type": "code",
   "execution_count": null,
   "metadata": {},
   "outputs": [],
   "source": [
    "cols = sorted(cols)\n",
    "\n",
    "# Creating trainable 224x224 images\n",
    "#                    -------\n",
    "for vehicle_class in cols:\n",
    "    print(vehicle_class + \" started .....\")\n",
    "    for filename in train_df[vehicle_class]:\n",
    "        try:\n",
    "            # for empty cols\n",
    "            if filename == None:\n",
    "                pass\n",
    "            else:\n",
    "                image = cv2.imread(\"../data/raw/vehicle/train/train/{}/\".format(vehicle_class) + filename)\n",
    "                image_from_numpy_array = Image.fromarray(image, \"RGB\")\n",
    "                resized_image = image_from_numpy_array.resize((224, 224))\n",
    "                data.append(np.array(resized_image))\n",
    "\n",
    "                if vehicle_class == 'Ambulance':\n",
    "                    labels.append(0)\n",
    "                elif vehicle_class == 'Bicycle':\n",
    "                    labels.append(1)\n",
    "                elif vehicle_class == 'Boat':\n",
    "                    labels.append(2)\n",
    "                elif vehicle_class == 'Bus':\n",
    "                    labels.append(3)\n",
    "                elif vehicle_class == 'Car':\n",
    "                    labels.append(4)\n",
    "                elif vehicle_class == 'Helicopter':\n",
    "                    labels.append(5)\n",
    "                elif vehicle_class == 'Limousine':\n",
    "                    labels.append(6)\n",
    "                elif vehicle_class == 'Motorcycle':\n",
    "                    labels.append(7)\n",
    "                elif vehicle_class == 'PickUp':\n",
    "                    labels.append(8)\n",
    "                elif vehicle_class == 'Segway':\n",
    "                    labels.append(9)\n",
    "                elif vehicle_class == 'Snowmobile':\n",
    "                    labels.append(10)\n",
    "                elif vehicle_class == 'Tank':\n",
    "                    labels.append(11)\n",
    "                elif vehicle_class == 'Taxi':\n",
    "                    labels.append(12)\n",
    "                elif vehicle_class == 'Truck':\n",
    "                    labels.append(13)\n",
    "                elif vehicle_class == 'Van':\n",
    "                    labels.append(14)\n",
    "                else:\n",
    "                    print(\"Something is wrong.\")\n",
    "                \n",
    "        except AttributeError:\n",
    "            print(\"Attribute error occured for \"+filename)"
   ]
  },
  {
   "cell_type": "code",
   "execution_count": null,
   "metadata": {},
   "outputs": [],
   "source": [
    "vehicle_images_224x224 = np.array(data)\n",
    "labels_224x224 = np.array(labels)\n",
    "\n",
    "# save\n",
    "np.save(\"../data/processed/all-vehicle-224x224-images-as-arrays\", vehicle_images_224x224)\n",
    "np.save(\"../data/processed/corresponding-labels-for-all-224x224-images\", labels_224x224)"
   ]
  },
  {
   "cell_type": "code",
   "execution_count": null,
   "metadata": {},
   "outputs": [],
   "source": [
    "#data = np.load(\"../data/processed/all-vehicle-224x224-images-as-arrays.npy\")\n",
    "#labels = np.load(\"../data/processed/corresponding-labels-for-all-224x224-images.npy\")"
   ]
  },
  {
   "cell_type": "code",
   "execution_count": null,
   "metadata": {},
   "outputs": [],
   "source": [
    "print(vehicle_images_224x224.shape)\n",
    "print(labels_224x224.shape)\n",
    "print(np.unique(labels_224x224))"
   ]
  },
  {
   "cell_type": "code",
   "execution_count": null,
   "metadata": {},
   "outputs": [],
   "source": [
    "# Move images to `test` and `train` dir\n",
    "import shutil\n",
    "import os\n",
    "\n",
    "os.mkdir(\"../data/working/\")\n",
    "os.mkdir(\"../data/working/test\")\n",
    "os.mkdir(\"../data/working/train\")\n",
    "\n",
    "classes = ['Segway', 'Bicycle', 'Snowmobile', 'Van', 'PickUp', 'Truck', 'Helicopter', 'Motorcycle', \n",
    "           'Tank', 'Bus', 'Taxi', 'Ambulance', 'Limousine', 'Boat', 'Car']\n",
    "\n",
    "for dir in [\"test\", \"train\"]:\n",
    "    for _class in classes:\n",
    "        os.mkdir(\"../data/working/{}/{}\".format(dir, _class))\n",
    "\n",
    "for _class in classes:\n",
    "    images = os.listdir(\"../data/raw/vehicle/train/train/{}\".format(_class))\n",
    "\n",
    "    test = images[:300]\n",
    "    \n",
    "    # downsample to 1.5k images\n",
    "    if len(images) < 1500:\n",
    "      train = images[300:]\n",
    "    else:\n",
    "      train = images[300:1500]\n",
    "\n",
    "    # move images to test-set folder\n",
    "    for image in test:\n",
    "        shutil.copy(\"../data/raw/vehicle/train/train/{}/{}\".format(_class, image), \"../data/working/test/{}/{}\".format(_class, image))\n",
    "\n",
    "    # move images to train-set folder\n",
    "    for image in train:\n",
    "        shutil.copy(\"../data/raw/vehicle/train/train/{}/{}\".format(_class, image), \"../data/working/train/{}/{}\".format(_class, image))\n"
   ]
  }
 ],
 "metadata": {
  "kernelspec": {
   "display_name": "Python [conda env:ironhack_env]",
   "language": "python",
   "name": "conda-env-ironhack_env-py"
  },
  "language_info": {
   "codemirror_mode": {
    "name": "ipython",
    "version": 3
   },
   "file_extension": ".py",
   "mimetype": "text/x-python",
   "name": "python",
   "nbconvert_exporter": "python",
   "pygments_lexer": "ipython3",
   "version": "3.7.6"
  }
 },
 "nbformat": 4,
 "nbformat_minor": 4
}
