{
 "cells": [
  {
   "cell_type": "markdown",
   "metadata": {},
   "source": [
    "### Data Acquisition"
   ]
  },
  {
   "cell_type": "code",
   "execution_count": 1,
   "metadata": {},
   "outputs": [],
   "source": [
    "# installations (be careful!!!)\n",
    "#!pip install missingno"
   ]
  },
  {
   "cell_type": "code",
   "execution_count": 2,
   "metadata": {},
   "outputs": [],
   "source": [
    "# all modules\n",
    "\n",
    "import warnings\n",
    "import pandas as pd\n",
    "from zipfile import ZipFile"
   ]
  },
  {
   "cell_type": "code",
   "execution_count": 3,
   "metadata": {},
   "outputs": [],
   "source": [
    "# global stuff\n",
    "\n",
    "warnings.filterwarnings('ignore')\n",
    "%matplotlib inline\n",
    "pd.set_option('display.max_rows', 13)\n",
    "pd.set_option('display.max_columns', 13)"
   ]
  },
  {
   "cell_type": "code",
   "execution_count": 4,
   "metadata": {},
   "outputs": [],
   "source": [
    "# load dataset\n",
    "\n",
    "zip_data = ZipFile('../data/raw/vehicles.zip')\n",
    "data = pd.read_csv(zip_data.open('vehicles/vehicles.csv'))"
   ]
  },
  {
   "cell_type": "code",
   "execution_count": 5,
   "metadata": {},
   "outputs": [
    {
     "name": "stdout",
     "output_type": "stream",
     "text": [
      "DATAFRAME SHAPE \n",
      " - rows: 35952 \n",
      " - columns: 15 \n",
      "\n",
      "DATAFRAME NULLS COUNT: \n",
      "Make                       0\n",
      "Model                      0\n",
      "Year                       0\n",
      "Engine Displacement        0\n",
      "Cylinders                  0\n",
      "Transmission               0\n",
      "                          ..\n",
      "Fuel Barrels/Year          0\n",
      "City MPG                   0\n",
      "Highway MPG                0\n",
      "Combined MPG               0\n",
      "CO2 Emission Grams/Mile    0\n",
      "Fuel Cost/Year             0\n",
      "Length: 15, dtype: int64 \n",
      "\n",
      "DATAFRAME COLUMNS TYPE: \n",
      "Make                        object\n",
      "Model                       object\n",
      "Year                         int64\n",
      "Engine Displacement        float64\n",
      "Cylinders                  float64\n",
      "Transmission                object\n",
      "                            ...   \n",
      "Fuel Barrels/Year          float64\n",
      "City MPG                     int64\n",
      "Highway MPG                  int64\n",
      "Combined MPG                 int64\n",
      "CO2 Emission Grams/Mile    float64\n",
      "Fuel Cost/Year               int64\n",
      "Length: 15, dtype: object\n"
     ]
    }
   ],
   "source": [
    "# basic exploration\n",
    "\n",
    "print('DATAFRAME SHAPE \\n - rows: {} \\n - columns: {}'.format(data.shape[0],data.shape[1]),'\\n')\n",
    "print('DATAFRAME NULLS COUNT: \\n{}'.format(data.isnull().sum()),'\\n')\n",
    "print('DATAFRAME COLUMNS TYPE: \\n{}'.format(data.dtypes,'\\n'))"
   ]
  },
  {
   "cell_type": "code",
   "execution_count": null,
   "metadata": {},
   "outputs": [],
   "source": []
  },
  {
   "cell_type": "code",
   "execution_count": null,
   "metadata": {},
   "outputs": [],
   "source": []
  }
 ],
 "metadata": {
  "kernelspec": {
   "display_name": "Python 3",
   "language": "python",
   "name": "python3"
  },
  "language_info": {
   "codemirror_mode": {
    "name": "ipython",
    "version": 3
   },
   "file_extension": ".py",
   "mimetype": "text/x-python",
   "name": "python",
   "nbconvert_exporter": "python",
   "pygments_lexer": "ipython3",
   "version": "3.7.3"
  }
 },
 "nbformat": 4,
 "nbformat_minor": 2
}
